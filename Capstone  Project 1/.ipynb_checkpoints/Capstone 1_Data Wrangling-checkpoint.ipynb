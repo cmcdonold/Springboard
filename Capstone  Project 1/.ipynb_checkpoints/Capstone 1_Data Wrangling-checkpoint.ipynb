{
 "cells": [
  {
   "cell_type": "code",
   "execution_count": 1,
   "metadata": {},
   "outputs": [],
   "source": [
    "import pandas as pd\n",
    "import numpy as np\n",
    "import json\n",
    "\n",
    "file = 'data_set_ALL_AML_train.csv'\n",
    "df = pd.read_csv(file, index_col=1)"
   ]
  },
  {
   "cell_type": "code",
   "execution_count": 2,
   "metadata": {},
   "outputs": [
    {
     "name": "stdout",
     "output_type": "stream",
     "text": [
      "<class 'pandas.core.frame.DataFrame'>\n",
      "Index: 7129 entries, AFFX-BioB-5_at to Z78285_f_at\n",
      "Data columns (total 77 columns):\n",
      "Gene Description    7129 non-null object\n",
      "1                   7129 non-null int64\n",
      "call                7129 non-null object\n",
      "2                   7129 non-null int64\n",
      "call.1              7129 non-null object\n",
      "3                   7129 non-null int64\n",
      "call.2              7129 non-null object\n",
      "4                   7129 non-null int64\n",
      "call.3              7129 non-null object\n",
      "5                   7129 non-null int64\n",
      "call.4              7129 non-null object\n",
      "6                   7129 non-null int64\n",
      "call.5              7129 non-null object\n",
      "7                   7129 non-null int64\n",
      "call.6              7129 non-null object\n",
      "8                   7129 non-null int64\n",
      "call.7              7129 non-null object\n",
      "9                   7129 non-null int64\n",
      "call.8              7129 non-null object\n",
      "10                  7129 non-null int64\n",
      "call.9              7129 non-null object\n",
      "11                  7129 non-null int64\n",
      "call.10             7129 non-null object\n",
      "12                  7129 non-null int64\n",
      "call.11             7129 non-null object\n",
      "13                  7129 non-null int64\n",
      "call.12             7129 non-null object\n",
      "14                  7129 non-null int64\n",
      "call.13             7129 non-null object\n",
      "15                  7129 non-null int64\n",
      "call.14             7129 non-null object\n",
      "16                  7129 non-null int64\n",
      "call.15             7129 non-null object\n",
      "17                  7129 non-null int64\n",
      "call.16             7129 non-null object\n",
      "18                  7129 non-null int64\n",
      "call.17             7129 non-null object\n",
      "19                  7129 non-null int64\n",
      "call.18             7129 non-null object\n",
      "20                  7129 non-null int64\n",
      "call.19             7129 non-null object\n",
      "21                  7129 non-null int64\n",
      "call.20             7129 non-null object\n",
      "22                  7129 non-null int64\n",
      "call.21             7129 non-null object\n",
      "23                  7129 non-null int64\n",
      "call.22             7129 non-null object\n",
      "24                  7129 non-null int64\n",
      "call.23             7129 non-null object\n",
      "25                  7129 non-null int64\n",
      "call.24             7129 non-null object\n",
      "26                  7129 non-null int64\n",
      "call.25             7129 non-null object\n",
      "27                  7129 non-null int64\n",
      "call.26             7129 non-null object\n",
      "34                  7129 non-null int64\n",
      "call.27             7129 non-null object\n",
      "35                  7129 non-null int64\n",
      "call.28             7129 non-null object\n",
      "36                  7129 non-null int64\n",
      "call.29             7129 non-null object\n",
      "37                  7129 non-null int64\n",
      "call.30             7129 non-null object\n",
      "38                  7129 non-null int64\n",
      "call.31             7129 non-null object\n",
      "28                  7129 non-null int64\n",
      "call.32             7129 non-null object\n",
      "29                  7129 non-null int64\n",
      "call.33             7129 non-null object\n",
      "30                  7129 non-null int64\n",
      "call.34             7129 non-null object\n",
      "31                  7129 non-null int64\n",
      "call.35             7129 non-null object\n",
      "32                  7129 non-null int64\n",
      "call.36             7129 non-null object\n",
      "33                  7129 non-null int64\n",
      "call.37             7129 non-null object\n",
      "dtypes: int64(38), object(39)\n",
      "memory usage: 4.2+ MB\n",
      "None\n",
      "(7129, 77)\n",
      "(7129, 39)\n"
     ]
    }
   ],
   "source": [
    "#print(df.loc[1240:1250,'Gene Description':'Gene Accession Number'])\n",
    "print(df.info())\n",
    "print(df.shape)\n",
    "a = ['call'] + ['call.' + str(x) for x in range(1,38)]\n",
    "data = df.drop(columns=a)\n",
    "print(data.shape)"
   ]
  },
  {
   "cell_type": "code",
   "execution_count": 3,
   "metadata": {},
   "outputs": [
    {
     "name": "stdout",
     "output_type": "stream",
     "text": [
      "        cancer\n",
      "patient       \n",
      "1          ALL\n",
      "2          ALL\n",
      "3          ALL\n",
      "4          ALL\n",
      "5          ALL\n",
      "<class 'pandas.core.indexes.numeric.Int64Index'>\n"
     ]
    }
   ],
   "source": [
    "key = pd.read_csv('actual.csv', index_col=0)\n",
    "print(key.head())\n",
    "print(type(key.index))"
   ]
  },
  {
   "cell_type": "markdown",
   "metadata": {},
   "source": [
    "I want to merge the gene expression dataframe ('data') with the key to create a dataframe that includes information on the type of cancer. I can then groupby the 'cancer' column to perform aggregations such as determining the mean and standard deviation of the expression level for each gene in the dataset.\n",
    "\n",
    "In order to merge the 'data' and 'key' dataframes, however, I first need to reshape the data."
   ]
  },
  {
   "cell_type": "code",
   "execution_count": 4,
   "metadata": {},
   "outputs": [
    {
     "name": "stdout",
     "output_type": "stream",
     "text": [
      "<class 'pandas.core.frame.DataFrame'>\n",
      "Int64Index: 38 entries, 1 to 33\n",
      "Columns: 7129 entries, AFFX-BioB-5_at to Z78285_f_at\n",
      "dtypes: object(7129)\n",
      "memory usage: 2.1+ MB\n",
      "None\n",
      "Gene Accession Number  AFFX-BioB-5_at\n",
      "1                                -214\n",
      "2                                -139\n",
      "3                                 -76\n",
      "4                                -135\n",
      "5                                -106\n",
      "6                                -138\n",
      "7                                 -72\n",
      "8                                -413\n",
      "9                                   5\n",
      "10                                -88\n",
      "11                               -165\n",
      "12                                -67\n",
      "13                                -92\n",
      "14                               -113\n",
      "15                               -107\n",
      "16                               -117\n",
      "17                               -476\n",
      "18                                -81\n",
      "19                                -44\n",
      "20                                 17\n",
      "21                               -144\n",
      "22                               -247\n",
      "23                                -74\n",
      "24                               -120\n",
      "25                                -81\n",
      "26                               -112\n",
      "27                               -273\n",
      "34                                -20\n",
      "35                                  7\n",
      "36                               -213\n",
      "37                                -25\n",
      "38                                -72\n",
      "28                                 -4\n",
      "29                                 15\n",
      "30                               -318\n",
      "31                                -32\n",
      "32                               -124\n",
      "33                               -135\n"
     ]
    }
   ],
   "source": [
    "#Transpose rows and columns so that each column is a different gene\n",
    "transposed_data = data.transpose()\n",
    "#Drop the 'Gene Description' row as it is not useful here\n",
    "cleaned_data = transposed_data.drop(['Gene Description'])\n",
    "cleaned_data.index = cleaned_data.index.map(int)\n",
    "print(cleaned_data.info())\n",
    "#Convert columns to numeric datatypes instead of objects\n",
    "cleaned_data = cleaned_data.apply(pd.to_numeric, errors='coerce')\n",
    "#print first column of data as a check\n",
    "print(cleaned_data.iloc[:, 0:1])"
   ]
  },
  {
   "cell_type": "code",
   "execution_count": 5,
   "metadata": {
    "scrolled": true
   },
   "outputs": [
    {
     "name": "stdout",
     "output_type": "stream",
     "text": [
      "(38, 7130)\n",
      "       A28102_at                                                            \\\n",
      "           count        mean         std   min    25%    50%    75%    max   \n",
      "cancer                                                                       \n",
      "ALL         27.0  258.555556  203.127723  20.0  112.5  216.0  385.5  872.0   \n",
      "AML         11.0  316.090909  126.132830  50.0  254.5  324.0  385.0  486.0   \n",
      "\n",
      "       AB000114_at              ...    Z97074_at        hum_alu_at  \\\n",
      "             count       mean   ...          75%    max      count   \n",
      "cancer                          ...                                  \n",
      "ALL           27.0  40.296296   ...        256.5  567.0       27.0   \n",
      "AML           11.0   6.090909   ...        122.0  205.0       11.0   \n",
      "\n",
      "                                                                                \n",
      "                mean          std      min      25%      50%      75%      max  \n",
      "cancer                                                                          \n",
      "ALL     19651.074074  7075.934165   6479.0  15040.0  18167.0  23916.0  36417.0  \n",
      "AML     21812.181818  8766.958581  11983.0  17618.5  19406.0  23686.5  45492.0  \n",
      "\n",
      "[2 rows x 57032 columns]\n"
     ]
    }
   ],
   "source": [
    "#Merge the key dataframe with the trimmed dataframe to assign the cancer type to each patient sample\n",
    "exp_data = pd.concat([key, cleaned_data], axis=1, join='inner')\n",
    "#Check that output has the expected shape\n",
    "print(exp_data.shape)\n",
    "#Check against previous printout to confirm data is intact\n",
    "#print(exp_data.iloc[:, 0:2])\n",
    "#Group by cancer type to aggregate and calculate useful statistical information with describe()\n",
    "stats = exp_data.groupby('cancer').describe()\n",
    "print(stats)"
   ]
  },
  {
   "cell_type": "code",
   "execution_count": 6,
   "metadata": {},
   "outputs": [
    {
     "name": "stdout",
     "output_type": "stream",
     "text": [
      "Gene:D78333_at ALL mean: 7.962962962962963 AML mean: 0.0\n",
      "Gene:HG3748-HT4018_at ALL mean: 194.74074074074073 AML mean: 0.0\n"
     ]
    }
   ],
   "source": [
    "gene_ratios = {}\n",
    "ratios = []\n",
    "for key, value in stats.iteritems():\n",
    "    if key[1] == 'mean':\n",
    "        if value['AML'] != 0:\n",
    "            ratio = value['ALL'] / value['AML']\n",
    "            gene_ratios[key[0]] = ratio\n",
    "            ratios.append(ratio)\n",
    "        else:\n",
    "            print('Gene:' + key[0] + ' ALL mean: ' + str(value['ALL']) + ' AML mean: ' + str(value['AML']))\n",
    "\n",
    "#print(ratios)\n",
    "\n",
    "#for gene, ratio in gene_ratios.items():\n"
   ]
  },
  {
   "cell_type": "code",
   "execution_count": 7,
   "metadata": {},
   "outputs": [
    {
     "name": "stdout",
     "output_type": "stream",
     "text": [
      "cancer                  ALL         AML\n",
      "A28102_at count   27.000000   11.000000\n",
      "          mean   258.555556  316.090909\n",
      "          std    203.127723  126.132830\n",
      "          min     20.000000   50.000000\n",
      "          25%    112.500000  254.500000\n",
      "          50%    216.000000  324.000000\n",
      "          75%    385.500000  385.000000\n",
      "          max    872.000000  486.000000\n",
      "(57032, 2)\n",
      "<class 'pandas.core.frame.DataFrame'>\n",
      "MultiIndex: 57032 entries, (A28102_at, count) to (hum_alu_at, max)\n",
      "Data columns (total 2 columns):\n",
      "ALL    57032 non-null float64\n",
      "AML    57032 non-null float64\n",
      "dtypes: float64(2)\n",
      "memory usage: 3.9+ MB\n",
      "None\n"
     ]
    }
   ],
   "source": [
    "#Transpose dataframe so that genes form the rows\n",
    "df = stats.transpose()\n",
    "print(df.head(8))\n",
    "print(df.shape)\n",
    "print(df.info())"
   ]
  },
  {
   "cell_type": "code",
   "execution_count": null,
   "metadata": {},
   "outputs": [],
   "source": [
    "mean = df.loc[:, 'mean']\n",
    "print(df1.head())"
   ]
  },
  {
   "cell_type": "code",
   "execution_count": 8,
   "metadata": {},
   "outputs": [
    {
     "name": "stdout",
     "output_type": "stream",
     "text": [
      "ALL\n",
      "AML\n"
     ]
    }
   ],
   "source": [
    "#s_unstack = df.unstack(level=1)\n",
    "#print(s_unstack.head())\n",
    "for key, value in df.iteritems():\n",
    "    print(key)"
   ]
  },
  {
   "cell_type": "code",
   "execution_count": 9,
   "metadata": {},
   "outputs": [
    {
     "name": "stdout",
     "output_type": "stream",
     "text": [
      "             stats         ALL         AML\n",
      "Genes                                     \n",
      "A28102_at    count   27.000000   11.000000\n",
      "A28102_at     mean  258.555556  316.090909\n",
      "A28102_at      std  203.127723  126.132830\n",
      "A28102_at      min   20.000000   50.000000\n",
      "A28102_at      25%  112.500000  254.500000\n",
      "A28102_at      50%  216.000000  324.000000\n",
      "A28102_at      75%  385.500000  385.000000\n",
      "A28102_at      max  872.000000  486.000000\n",
      "AB000114_at  count   27.000000   11.000000\n",
      "AB000114_at   mean   40.296296    6.090909\n",
      "AB000114_at    std   57.974673   31.007917\n",
      "AB000114_at    min -111.000000  -35.000000\n",
      "AB000114_at    25%   17.000000  -20.000000\n",
      "AB000114_at    50%   41.000000    1.000000\n",
      "AB000114_at    75%   70.000000   36.000000\n",
      "AB000114_at    max  174.000000   56.000000\n",
      "<class 'pandas.core.frame.DataFrame'>\n",
      "Index: 57032 entries, A28102_at to hum_alu_at\n",
      "Data columns (total 3 columns):\n",
      "stats    57032 non-null object\n",
      "ALL      57032 non-null float64\n",
      "AML      57032 non-null float64\n",
      "dtypes: float64(2), object(1)\n",
      "memory usage: 1.7+ MB\n",
      "None\n",
      "Index(['A28102_at', 'A28102_at', 'A28102_at', 'A28102_at', 'A28102_at',\n",
      "       'A28102_at', 'A28102_at', 'A28102_at', 'AB000114_at', 'AB000114_at',\n",
      "       ...\n",
      "       'Z97074_at', 'Z97074_at', 'hum_alu_at', 'hum_alu_at', 'hum_alu_at',\n",
      "       'hum_alu_at', 'hum_alu_at', 'hum_alu_at', 'hum_alu_at', 'hum_alu_at'],\n",
      "      dtype='object', name='Genes', length=57032)\n",
      "Index(['stats', 'ALL', 'AML'], dtype='object')\n"
     ]
    }
   ],
   "source": [
    "#Extract stats info from the MultiIndex and make a separate column\n",
    "df.reset_index(level=1, inplace=True)\n",
    "df.rename(columns={'level_1': 'stats'}, inplace=True)\n",
    "#Rename the column and row indices for clarity\n",
    "df.rename_axis('Genes', inplace=True)\n",
    "df.rename_axis(None, axis=1, inplace=True)\n",
    "print(df.head(16))\n",
    "print(df.info())\n",
    "print(df.index)\n",
    "print(df.columns)"
   ]
  },
  {
   "cell_type": "code",
   "execution_count": null,
   "metadata": {},
   "outputs": [],
   "source": []
  },
  {
   "cell_type": "markdown",
   "metadata": {},
   "source": [
    "Testing"
   ]
  },
  {
   "cell_type": "code",
   "execution_count": 10,
   "metadata": {},
   "outputs": [],
   "source": [
    "#normalized = pd.Series(data = (stats.loc['ALL'] / stats.loc['AML']), name='ALL/AML ratio')\n",
    "#stats = stats.append(normalized)\n",
    "#print(stats)"
   ]
  },
  {
   "cell_type": "markdown",
   "metadata": {},
   "source": [
    "I need a dataframe where each row is a gene and the columns are ALL mean, ALL st.dev, AML mean, ALL st.dev., and ALL/AML ratio. How to do this?"
   ]
  },
  {
   "cell_type": "code",
   "execution_count": null,
   "metadata": {},
   "outputs": [],
   "source": []
  }
 ],
 "metadata": {
  "kernelspec": {
   "display_name": "Python 3",
   "language": "python",
   "name": "python3"
  },
  "language_info": {
   "codemirror_mode": {
    "name": "ipython",
    "version": 3
   },
   "file_extension": ".py",
   "mimetype": "text/x-python",
   "name": "python",
   "nbconvert_exporter": "python",
   "pygments_lexer": "ipython3",
   "version": "3.7.0"
  }
 },
 "nbformat": 4,
 "nbformat_minor": 2
}
