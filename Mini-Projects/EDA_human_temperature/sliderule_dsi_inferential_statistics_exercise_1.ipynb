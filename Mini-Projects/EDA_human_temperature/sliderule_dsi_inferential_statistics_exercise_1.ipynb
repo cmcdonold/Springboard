{
 "cells": [
  {
   "cell_type": "markdown",
   "metadata": {},
   "source": [
    "# What is the True Normal Human Body Temperature? \n",
    "\n",
    "#### Background\n",
    "\n",
    "The mean normal body temperature was held to be 37$^{\\circ}$C or 98.6$^{\\circ}$F for more than 120 years since it was first conceptualized and reported by Carl Wunderlich in a famous 1868 book. But, is this value statistically correct?"
   ]
  },
  {
   "cell_type": "markdown",
   "metadata": {},
   "source": [
    "<h3>Exercises</h3>\n",
    "\n",
    "<p>In this exercise, you will analyze a dataset of human body temperatures and employ the concepts of hypothesis testing, confidence intervals, and statistical significance.</p>\n",
    "\n",
    "<p>Answer the following questions <b>in this notebook below and submit to your Github account</b>.</p> \n",
    "\n",
    "<ol>\n",
    "<li>  Is the distribution of body temperatures normal? \n",
    "    <ul>\n",
    "    <li> Although this is not a requirement for the Central Limit Theorem to hold (read the introduction on Wikipedia's page about the CLT carefully: https://en.wikipedia.org/wiki/Central_limit_theorem), it gives us some peace of mind that the population may also be normally distributed if we assume that this sample is representative of the population.\n",
    "    <li> Think about the way you're going to check for the normality of the distribution. Graphical methods are usually used first, but there are also other ways: https://en.wikipedia.org/wiki/Normality_test\n",
    "    </ul>\n",
    "<li>  Is the sample size large? Are the observations independent?\n",
    "    <ul>\n",
    "    <li> Remember that this is a condition for the Central Limit Theorem, and hence the statistical tests we are using, to apply.\n",
    "    </ul>\n",
    "<li>  Is the true population mean really 98.6 degrees F?\n",
    "    <ul>\n",
    "    <li> First, try a bootstrap hypothesis test.\n",
    "    <li> Now, let's try frequentist statistical testing. Would you use a one-sample or two-sample test? Why?\n",
    "    <li> In this situation, is it appropriate to use the $t$ or $z$ statistic? \n",
    "    <li> Now try using the other test. How is the result be different? Why?\n",
    "    </ul>\n",
    "<li>  Draw a small sample of size 10 from the data and repeat both frequentist tests. \n",
    "    <ul>\n",
    "    <li> Which one is the correct one to use? \n",
    "    <li> What do you notice? What does this tell you about the difference in application of the $t$ and $z$ statistic?\n",
    "    </ul>\n",
    "<li>  At what temperature should we consider someone's temperature to be \"abnormal\"?\n",
    "    <ul>\n",
    "    <li> As in the previous example, try calculating everything using the boostrap approach, as well as the frequentist approach.\n",
    "    <li> Start by computing the margin of error and confidence interval. When calculating the confidence interval, keep in mind that you should use the appropriate formula for one draw, and not N draws.\n",
    "    </ul>\n",
    "<li>  Is there a significant difference between males and females in normal temperature?\n",
    "    <ul>\n",
    "    <li> What testing approach did you use and why?\n",
    "    <li> Write a story with your conclusion in the context of the original problem.\n",
    "    </ul>\n",
    "</ol>\n",
    "\n",
    "You can include written notes in notebook cells using Markdown: \n",
    "   - In the control panel at the top, choose Cell > Cell Type > Markdown\n",
    "   - Markdown syntax: http://nestacms.com/docs/creating-content/markdown-cheat-sheet\n",
    "\n",
    "#### Resources\n",
    "\n",
    "+ Information and data sources: http://www.amstat.org/publications/jse/datasets/normtemp.txt, http://www.amstat.org/publications/jse/jse_data_archive.htm\n",
    "+ Markdown syntax: http://nestacms.com/docs/creating-content/markdown-cheat-sheet\n",
    "\n",
    "****"
   ]
  },
  {
   "cell_type": "code",
   "execution_count": 1,
   "metadata": {},
   "outputs": [],
   "source": [
    "import pandas as pd\n",
    "import numpy as np\n",
    "import matplotlib.pyplot as plt\n",
    "import seaborn as sns\n",
    "\n",
    "df = pd.read_csv('data/human_body_temperature.csv')"
   ]
  },
  {
   "cell_type": "code",
   "execution_count": 2,
   "metadata": {},
   "outputs": [
    {
     "name": "stdout",
     "output_type": "stream",
     "text": [
      "   temperature gender  heart_rate\n",
      "0         99.3      F        68.0\n",
      "1         98.4      F        81.0\n",
      "2         97.8      M        73.0\n",
      "3         99.2      F        66.0\n",
      "4         98.0      F        73.0\n"
     ]
    }
   ],
   "source": [
    "# Your work here.\n",
    "print(df.head())"
   ]
  },
  {
   "cell_type": "markdown",
   "metadata": {},
   "source": [
    "**Question 1:** Is the distribution of body temperatures normal?"
   ]
  },
  {
   "cell_type": "code",
   "execution_count": 3,
   "metadata": {},
   "outputs": [
    {
     "data": {
      "image/png": "[encoded data removed]",
      "text/plain": [
       "<Figure size 432x288 with 1 Axes>"
      ]
     },
     "metadata": {},
     "output_type": "display_data"
    }
   ],
   "source": [
    "sns.set()\n",
    "n_bins = np.sqrt(df['temperature'].size)\n",
    "n_bins = int(n_bins)\n",
    "_ = plt.hist(df['temperature'], bins=n_bins)\n",
    "_ = plt.xlabel('Temperature')\n",
    "_ = plt.ylabel('Count')\n",
    "_ = plt.title('Distribution of Body Temperatures')\n",
    "\n",
    "plt.show()"
   ]
  },
  {
   "cell_type": "markdown",
   "metadata": {},
   "source": [
    "Based on the distribution graph, the body temperature data are roughly normally distributed, though there is more density on the left of the distribution than on the right.\n",
    "\n",
    "**Question 2:** Is the sample size large? Are the observations independent?"
   ]
  },
  {
   "cell_type": "code",
   "execution_count": 4,
   "metadata": {},
   "outputs": [
    {
     "name": "stdout",
     "output_type": "stream",
     "text": [
      "(130, 3)\n",
      "   temperature gender  heart_rate\n",
      "0         99.3      F        68.0\n",
      "1         98.4      F        81.0\n",
      "2         97.8      M        73.0\n",
      "3         99.2      F        66.0\n",
      "4         98.0      F        73.0\n",
      "5         99.2      M        83.0\n",
      "6         98.0      M        71.0\n",
      "7         98.8      M        78.0\n",
      "8         98.4      F        84.0\n",
      "9         98.6      F        86.0\n"
     ]
    }
   ],
   "source": [
    "print(df.shape)\n",
    "print(df.head(10))"
   ]
  },
  {
   "cell_type": "markdown",
   "metadata": {},
   "source": [
    "There are 130 body temperature measurements taken, so the sample size is sufficiently large enough for the Central Limit Theorem to hold (as n > 30). Assuming the data are body temperature measurements of different individuals chosen at random, then the observations are also independent.\n",
    "\n",
    "**Question 3:** Is the true population mean 98.6 degrees Farenheit?\n",
    "\n",
    "**_H<sub>0</sub>: The true mean is 98.6 degrees F_**\n",
    "\n",
    "**_H<sub>a</sub>: The true mean is not 98.6 degrees F_**"
   ]
  },
  {
   "cell_type": "code",
   "execution_count": 5,
   "metadata": {},
   "outputs": [
    {
     "name": "stdout",
     "output_type": "stream",
     "text": [
      "The sample mean is 98.25 and the difference from the true mean is -0.35 degrees F\n",
      "The p-value is 0.0\n"
     ]
    }
   ],
   "source": [
    "def bootstrap_replicate_1d(data, func):\n",
    "    \"\"\"Generate bootstrap replicate of 1-dimensional data\"\"\"\n",
    "    bs_sample = np.random.choice(data, len(data))\n",
    "    return func(bs_sample)\n",
    "\n",
    "def draw_bs_reps(data, func, size=1):\n",
    "    \"\"\"Draw bootstrap replicates.\"\"\"\n",
    "    # Initialize array of replicates: bs_replicates\n",
    "    bs_replicates = np.empty(size)\n",
    "\n",
    "    # Generate replicates\n",
    "    for i in range(size):\n",
    "        bs_replicates[i] = bootstrap_replicate_1d(data, func)\n",
    "\n",
    "    return bs_replicates\n",
    "\n",
    "def diff_from_true_mean(data, true_mean=98.6):\n",
    "    return (np.mean(data) - true_mean)\n",
    "\n",
    "# Seed the random number generator\n",
    "np.random.seed(175392)\n",
    "\n",
    "true_mean = 98.6\n",
    "sample_mean = np.mean(df['temperature'])\n",
    "\n",
    "diff_obs = sample_mean - true_mean\n",
    "print('The sample mean is', round(np.mean(df['temperature']), 2), 'and the difference from the true mean is', \n",
    "      round(diff_obs, 2), 'degrees F')\n",
    "\n",
    "body_temp_shifted = df['temperature'].values - np.mean(df['temperature']) + true_mean\n",
    "\n",
    "bs_replicates = draw_bs_reps(body_temp_shifted, diff_from_true_mean, 10000)\n",
    "\n",
    "p_value = np.sum(bs_replicates <= diff_obs) / len(bs_replicates)\n",
    "\n",
    "print('The p-value is ' + str(p_value))"
   ]
  },
  {
   "cell_type": "markdown",
   "metadata": {},
   "source": [
    "As the p-value for the bootstrap hypotesis test is 0, the population mean is **not** 98.6 degrees F.\n",
    "\n",
    "For frequentist statistical testing, we should use a one-sample test, as we are testing a sample to against the population mean of 98.6 degrees F. As the sample size is > 30 and the observations are independent and normally distributed, it is appropriate to use the z-statistic because the standard deviation of the sample will be a reasonable estimation of the population standard deviation."
   ]
  },
  {
   "cell_type": "code",
   "execution_count": 6,
   "metadata": {},
   "outputs": [
    {
     "name": "stdout",
     "output_type": "stream",
     "text": [
      "The z-value is -5.4759 and the p-value (i.e. z-statistic) is 4.35e-08\n",
      "The critical z-value for a significance level of 5% is +/- 1.959964\n"
     ]
    }
   ],
   "source": [
    "from scipy import stats\n",
    "\n",
    "sample_std = np.std(df['temperature'])\n",
    "n = df['temperature'].size\n",
    "z_val = (sample_mean - true_mean) / (sample_std / np.sqrt(n))\n",
    "z_statistic = stats.norm.cdf(z_val) * 2\n",
    "crit_z = stats.norm.ppf(0.975)\n",
    "print(\"The z-value is\", round(z_val, 4), 'and the p-value (i.e. z-statistic) is', round(z_statistic, 10))\n",
    "print(\"The critical z-value for a significance level of 5% is +/-\", round(crit_z, 6))"
   ]
  },
  {
   "cell_type": "markdown",
   "metadata": {},
   "source": [
    "As the p-value is essentially 0 (~0.00000004), and the calculated z-value of -5.48 is less than the critical z-value of -1.96, we reject the null hypothesis. That is, the population mean is **not** 98.6 degrees F.\n",
    "\n",
    "We can also calculate the t-statistic to compare it to the z-statistic. The t-value is calculated using the same formula as the z-value in this case, as we are using the standard deviation of the sample to estimate the standard deviation of the population. The t-statistic will be determined using the Student t distribution rather than the normal distribution, however."
   ]
  },
  {
   "cell_type": "code",
   "execution_count": 7,
   "metadata": {},
   "outputs": [
    {
     "name": "stdout",
     "output_type": "stream",
     "text": [
      "The t-value is -5.4759 and the p-value (i.e. t-statistic) is 2.189e-07\n",
      "The critical t-value for a significance level of 5% is +/- 1.978524\n"
     ]
    }
   ],
   "source": [
    "t_val = z_val\n",
    "t_statistic = stats.t.cdf(t_val, n-1) * 2\n",
    "crit_t = stats.t.ppf(0.975, n-1)\n",
    "print(\"The t-value is\", round(t_val, 4), \"and the p-value (i.e. t-statistic) is\", round(t_statistic, 10))\n",
    "print(\"The critical t-value for a significance level of 5% is +/-\", round(crit_t, 6))"
   ]
  },
  {
   "cell_type": "markdown",
   "metadata": {},
   "source": [
    "The z-statistic and t-statistic are essentially the same because the sample size is 130, so the standard\n",
    "deviation of the sample is very close to the standard deviation of the population.\n",
    "\n",
    "**Question 4:** Draw a small sample of size 10 from the data and repeat both frequentist tests.\n",
    "    <li> Which one is the correct one to use? \n",
    "        <ul><li> The t-statistic is the correct test to use as the sample size is less than 30 (n < 30)</ul>\n",
    "    <li> What do you notice? What does this tell you about the difference in application of the $t$ and $z$ statistic?"
   ]
  },
  {
   "cell_type": "code",
   "execution_count": 8,
   "metadata": {},
   "outputs": [
    {
     "name": "stdout",
     "output_type": "stream",
     "text": [
      "The t-value is -1.9232 and the p-value (i.e. t-statistic) is 1.645\n",
      "The critical t-value for a significance level of 5% is +/- 2.2622\n",
      "The z-value is -1.9232 and the p-value (i.e. z-statistic) is 0.0545\n",
      "The critical z-value for a significance level of 5% is +/- 1.96\n"
     ]
    }
   ],
   "source": [
    "n_small = 10\n",
    "np.random.seed(100)\n",
    "small_sample = np.random.choice(df['temperature'].values, n_small)\n",
    "small_mean = np.mean(small_sample)\n",
    "small_std = np.std(small_sample)\n",
    "t_val = (small_mean - true_mean) / (small_std / np.sqrt(n_small))\n",
    "t_stat_small = stats.t.cdf(0.975, n_small-1) * 2\n",
    "crit_t_small = stats.t.ppf(0.975, n_small-1)\n",
    "print('The t-value is', round(t_val, 4), 'and the p-value (i.e. t-statistic) is', round(t_stat_small, 4))\n",
    "print(\"The critical t-value for a significance level of 5% is +/-\", round(crit_t_small, 4))\n",
    "\n",
    "z_val = (small_mean - true_mean) / (small_std / np.sqrt(n_small))\n",
    "z_stat_small = stats.norm.cdf(z_val) * 2\n",
    "crit_z_small = stats.norm.ppf(0.975)\n",
    "print(\"The z-value is\", round(z_val, 4), \"and the p-value (i.e. z-statistic) is\", round(z_stat_small, 4))\n",
    "print(\"The critical z-value for a significance level of 5% is +/-\", round(crit_z_small, 4))\n"
   ]
  },
  {
   "cell_type": "markdown",
   "metadata": {},
   "source": [
    "Both the t-statistic and the z-statistic indicate that there is not a significant difference between the sample and the predicted population mean of 98.6 degrees F. Because n is small (10), the z-statistic is not approprite to use in this situation. The t-statistic does not find a significant difference with such a small n because there are not enough data points in the sample to distinguish small differences in the mean, as we see in the human body temperature data. In order to determine statistical significance between a sample mean and a hypothetical population mean, either the n  or the difference in the means need to be large.\n",
    "\n",
    "**Question 5:** At what temperature should we consider someone's temperature to be abnormal?\n",
    "\n",
    "The question first asks us to calculate the 95% confidence interval using both a bootstrap method and a frequentist approach, which I have done in the code block below. However, these are the 95% confidence intervals of the mean distribution, meaning that there is a 95% chance that the true population mean lies within this interval. However, this doe **not** tell us the normal distribution of individual temperature measurements. \n",
    "\n",
    "To determine the prediction interval of normal body temperatures, we use the normal distribution . As the sample size is 130, the sample mean is a good approximation of the true population mean. We could also calculate the 95% confidence interval of the sample mean (i.e. 95% chance that the confidence interval contains the true population mean) and then base the range of normal values on the confidence interval of the mean distribution."
   ]
  },
  {
   "cell_type": "code",
   "execution_count": 9,
   "metadata": {},
   "outputs": [
    {
     "name": "stdout",
     "output_type": "stream",
     "text": [
      "The 95% confidence interval of the mean as determined by bootstrapping is -0.12 degrees F to 0.12 degrees F\n",
      "The margin of error of the mean by bootstrapping is 0.123 degrees F\n",
      "The frequentist 95% confidence interval of the mean is 98.12 to 98.37 degrees F\n",
      "The frequentist margin of error of the mean is 0.127 degrees F\n",
      "The frequentist 95% prediction interval is 96.8 to 99.7 degrees F\n"
     ]
    }
   ],
   "source": [
    "# Draw bootstrap replicates of the mean temperature\n",
    "bs_replicates_mean = draw_bs_reps(df['temperature'].values, np.mean, 10000)\n",
    "\n",
    "# Compute the 95% confidence interval of the mean distribution\n",
    "conf_int = np.percentile(bs_replicates, [2.5, 97.5])\n",
    "\n",
    "# Print the confidence interval\n",
    "print('The 95% confidence interval of the mean as determined by bootstrapping is', round(conf_int[0], 2), \n",
    "      'degrees F to', round(conf_int[1], 2), 'degrees F')\n",
    "# Print the margin of error (moe)\n",
    "print('The margin of error of the mean by bootstrapping is', round((conf_int[1]-conf_int[0])/2, 3), 'degrees F')\n",
    "\n",
    "# Frequntist method to calculate confidence interval and moe of the mean\n",
    "moe = crit_t * (sample_std / np.sqrt(n))\n",
    "freq_lower_ci = sample_mean - crit_z * (sample_std / np.sqrt(n))\n",
    "freq_upper_ci = sample_mean + crit_z * (sample_std / np.sqrt(n))\n",
    "\n",
    "print('The frequentist 95% confidence interval of the mean is', round(freq_lower_ci, 2), 'to', round(freq_upper_ci, 2), 'degrees F')\n",
    "print('The frequentist margin of error of the mean is', round(moe, 3), 'degrees F')\n",
    "\n",
    "# Frequentist method of calculating prediction interval\n",
    "freq_lower_pi = sample_mean - (crit_t * sample_std * np.sqrt(1+1/n))\n",
    "freq_upper_pi = sample_mean + (crit_t * sample_std * np.sqrt(1+1/n))\n",
    "print('The frequentist 95% prediction interval is', round(freq_lower_pi, 2), 'to', round(freq_upper_pi, 2), 'degrees F')"
   ]
  },
  {
   "cell_type": "markdown",
   "metadata": {},
   "source": [
    "We should consider a measured body temperature to be abnormal if it is less than 96.8 degrees F or more than 99.7 degrees F\n",
    "\n",
    "**Question 6:** Is there a significant difference between males and females in normal temperature?"
   ]
  },
  {
   "cell_type": "code",
   "execution_count": 10,
   "metadata": {},
   "outputs": [
    {
     "data": {
      "image/png": "[encoded data removed]",
      "text/plain": [
       "<Figure size 432x288 with 1 Axes>"
      ]
     },
     "metadata": {},
     "output_type": "display_data"
    }
   ],
   "source": [
    "# First, just some EDA to look at the body temperatures of males and females\n",
    "sns.boxplot(x='gender', y='temperature', data=df)\n",
    "plt.show()"
   ]
  },
  {
   "cell_type": "code",
   "execution_count": 11,
   "metadata": {},
   "outputs": [
    {
     "name": "stdout",
     "output_type": "stream",
     "text": [
      "Mean female temperature: 98.39 degrees F\n",
      "Mean male temperature: 98.1 degrees F\n",
      "The difference between male and female temperatures is 0.29 degrees F\n",
      "The probability of getting the observed difference in mean temperature between males and females is 2.66 %\n",
      "The p-value is 0.0266\n"
     ]
    }
   ],
   "source": [
    "# Function to generate permutation sample\n",
    "def permutation_sample(data1, data2):\n",
    "    \"\"\"Generate a permutation sample from two data sets.\"\"\"\n",
    "\n",
    "    # Concatenate the data sets: data\n",
    "    data = np.concatenate((data1, data2))\n",
    "\n",
    "    # Permute the concatenated array: permuted_data\n",
    "    permuted_data = np.random.permutation(data)\n",
    "\n",
    "    # Split the permuted array into two: perm_sample_1, perm_sample_2\n",
    "    perm_sample_1 = permuted_data[:len(data1)]\n",
    "    perm_sample_2 = permuted_data[len(data1):]\n",
    "\n",
    "    return perm_sample_1, perm_sample_2\n",
    "\n",
    "# Function to generate permutation replicates\n",
    "def draw_perm_reps(data_1, data_2, func, size=1):\n",
    "    \"\"\"Generate multiple permutation replicates.\"\"\"\n",
    "\n",
    "    # Initialize array of replicates: perm_replicates\n",
    "    perm_replicates = np.empty(size)\n",
    "\n",
    "    for i in range(size):\n",
    "        # Generate permutation sample\n",
    "        perm_sample_1, perm_sample_2 = permutation_sample(data_1, data_2)\n",
    "\n",
    "        # Compute the test statistic\n",
    "        perm_replicates[i] = func(perm_sample_1, perm_sample_2)\n",
    "    \n",
    "    return perm_replicates   \n",
    "    \n",
    "def diff_of_means(data_1, data_2):\n",
    "    \"\"\"Difference in means of two arrays.\"\"\"\n",
    "\n",
    "    # The difference of means of data_1, data_2: diff\n",
    "    diff = abs(np.mean(data_1) - np.mean(data_2))\n",
    "\n",
    "    return diff\n",
    "\n",
    "female_df = df[(df.gender == 'F')]\n",
    "female_temps = female_df['temperature'].values\n",
    "\n",
    "male_df = df[(df.gender == 'M')]\n",
    "male_temps = male_df['temperature'].values\n",
    "\n",
    "# Compute difference of mean impact force from experiment: empirical_diff_means\n",
    "empirical_diff_means = diff_of_means(male_temps, female_temps)\n",
    "print('Mean female temperature:', round(np.mean(female_temps), 2), 'degrees F')\n",
    "print('Mean male temperature:', round(np.mean(male_temps), 2), 'degrees F')\n",
    "print('The difference between male and female temperatures is', round(empirical_diff_means, 2), 'degrees F')\n",
    "\n",
    "# Draw 10,000 permutation replicates: perm_replicates\n",
    "perm_replicates = draw_perm_reps(male_temps, female_temps, diff_of_means, size=10000)\n",
    "\n",
    "# Compute p-value: p\n",
    "p = np.sum(perm_replicates >= empirical_diff_means) / len(perm_replicates)\n",
    "percent = round(p*100, 2)\n",
    "\n",
    "# Print the result\n",
    "print('The probability of getting the observed difference in mean temperature between males and females is', percent, '%')\n",
    "print('The p-value is', p)\n"
   ]
  },
  {
   "cell_type": "markdown",
   "metadata": {},
   "source": [
    "The p-value is less than 0.05 (i.e. less than 5% probability) that the observed difference in the male and female temperatures would occur assuming that the temperature distributions are identical. Therefore, we reject the null hypothesis that there is no difference between male and female temperatures.\n",
    "\n",
    "In conclusion, the dataset indicate that the mean human body temperature is actually 98.25 +/- 0.127 degrees F, rather than 98.6 degrees F. We can also conclude that the mean female body temperature is warmer than the mean male body temperature."
   ]
  }
 ],
 "metadata": {
  "kernelspec": {
   "display_name": "Python 3",
   "language": "python",
   "name": "python3"
  },
  "language_info": {
   "codemirror_mode": {
    "name": "ipython",
    "version": 3
   },
   "file_extension": ".py",
   "mimetype": "text/x-python",
   "name": "python",
   "nbconvert_exporter": "python",
   "pygments_lexer": "ipython3",
   "version": "3.7.2"
  }
 },
 "nbformat": 4,
 "nbformat_minor": 1
}
