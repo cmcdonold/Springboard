{
 "cells": [
  {
   "cell_type": "markdown",
   "metadata": {},
   "source": [
    "JSON Mini-project Exercises\n",
    "\n",
    "Data used: 'data/world_bank_projects.json'\n",
    "\n",
    "Exercise 1: Find the 10 countries with most projects"
   ]
  },
  {
   "cell_type": "code",
   "execution_count": 1,
   "metadata": {
    "scrolled": true
   },
   "outputs": [
    {
     "name": "stdout",
     "output_type": "stream",
     "text": [
      "(500, 50)\n",
      "Index(['_id', 'approvalfy', 'board_approval_month', 'boardapprovaldate',\n",
      "       'borrower', 'closingdate', 'country_namecode', 'countrycode',\n",
      "       'countryname', 'countryshortname', 'docty', 'envassesmentcategorycode',\n",
      "       'grantamt', 'ibrdcommamt', 'id', 'idacommamt', 'impagency',\n",
      "       'lendinginstr', 'lendinginstrtype', 'lendprojectcost',\n",
      "       'majorsector_percent', 'mjsector_namecode', 'mjtheme',\n",
      "       'mjtheme_namecode', 'mjthemecode', 'prodline', 'prodlinetext',\n",
      "       'productlinetype', 'project_abstract', 'project_name', 'projectdocs',\n",
      "       'projectfinancialtype', 'projectstatusdisplay', 'regionname', 'sector',\n",
      "       'sector1', 'sector2', 'sector3', 'sector4', 'sector_namecode',\n",
      "       'sectorcode', 'source', 'status', 'supplementprojectflg', 'theme1',\n",
      "       'theme_namecode', 'themecode', 'totalamt', 'totalcommamt', 'url'],\n",
      "      dtype='object')\n",
      "<class 'pandas.core.frame.DataFrame'>\n",
      "RangeIndex: 500 entries, 0 to 499\n",
      "Data columns (total 50 columns):\n",
      "_id                         500 non-null object\n",
      "approvalfy                  500 non-null int64\n",
      "board_approval_month        500 non-null object\n",
      "boardapprovaldate           500 non-null object\n",
      "borrower                    485 non-null object\n",
      "closingdate                 370 non-null object\n",
      "country_namecode            500 non-null object\n",
      "countrycode                 500 non-null object\n",
      "countryname                 500 non-null object\n",
      "countryshortname            500 non-null object\n",
      "docty                       446 non-null object\n",
      "envassesmentcategorycode    430 non-null object\n",
      "grantamt                    500 non-null int64\n",
      "ibrdcommamt                 500 non-null int64\n",
      "id                          500 non-null object\n",
      "idacommamt                  500 non-null int64\n",
      "impagency                   472 non-null object\n",
      "lendinginstr                495 non-null object\n",
      "lendinginstrtype            495 non-null object\n",
      "lendprojectcost             500 non-null int64\n",
      "majorsector_percent         500 non-null object\n",
      "mjsector_namecode           500 non-null object\n",
      "mjtheme                     491 non-null object\n",
      "mjtheme_namecode            500 non-null object\n",
      "mjthemecode                 500 non-null object\n",
      "prodline                    500 non-null object\n",
      "prodlinetext                500 non-null object\n",
      "productlinetype             500 non-null object\n",
      "project_abstract            362 non-null object\n",
      "project_name                500 non-null object\n",
      "projectdocs                 446 non-null object\n",
      "projectfinancialtype        500 non-null object\n",
      "projectstatusdisplay        500 non-null object\n",
      "regionname                  500 non-null object\n",
      "sector                      500 non-null object\n",
      "sector1                     500 non-null object\n",
      "sector2                     380 non-null object\n",
      "sector3                     265 non-null object\n",
      "sector4                     174 non-null object\n",
      "sector_namecode             500 non-null object\n",
      "sectorcode                  500 non-null object\n",
      "source                      500 non-null object\n",
      "status                      500 non-null object\n",
      "supplementprojectflg        498 non-null object\n",
      "theme1                      500 non-null object\n",
      "theme_namecode              491 non-null object\n",
      "themecode                   491 non-null object\n",
      "totalamt                    500 non-null int64\n",
      "totalcommamt                500 non-null int64\n",
      "url                         500 non-null object\n",
      "dtypes: int64(7), object(43)\n",
      "memory usage: 195.4+ KB\n",
      "None\n",
      "                                    _id  approvalfy board_approval_month  \\\n",
      "0  {'$oid': '52b213b38594d8a2be17c780'}        1999             November   \n",
      "1  {'$oid': '52b213b38594d8a2be17c781'}        2015             November   \n",
      "2  {'$oid': '52b213b38594d8a2be17c782'}        2014             November   \n",
      "3  {'$oid': '52b213b38594d8a2be17c783'}        2014              October   \n",
      "4  {'$oid': '52b213b38594d8a2be17c784'}        2014              October   \n",
      "\n",
      "      boardapprovaldate                                 borrower  \\\n",
      "0  2013-11-12T00:00:00Z  FEDERAL DEMOCRATIC REPUBLIC OF ETHIOPIA   \n",
      "1  2013-11-04T00:00:00Z                    GOVERNMENT OF TUNISIA   \n",
      "2  2013-11-01T00:00:00Z   MINISTRY OF FINANCE AND ECONOMIC DEVEL   \n",
      "3  2013-10-31T00:00:00Z   MIN. OF PLANNING AND INT'L COOPERATION   \n",
      "4  2013-10-31T00:00:00Z                      MINISTRY OF FINANCE   \n",
      "\n",
      "            closingdate                              country_namecode  \\\n",
      "0  2018-07-07T00:00:00Z  Federal Democratic Republic of Ethiopia!$!ET   \n",
      "1                   NaN                      Republic of Tunisia!$!TN   \n",
      "2                   NaN                                   Tuvalu!$!TV   \n",
      "3                   NaN                        Republic of Yemen!$!RY   \n",
      "4  2019-04-30T00:00:00Z                       Kingdom of Lesotho!$!LS   \n",
      "\n",
      "  countrycode                              countryname    countryshortname  \\\n",
      "0          ET  Federal Democratic Republic of Ethiopia            Ethiopia   \n",
      "1          TN                      Republic of Tunisia             Tunisia   \n",
      "2          TV                                   Tuvalu              Tuvalu   \n",
      "3          RY                        Republic of Yemen  Yemen, Republic of   \n",
      "4          LS                       Kingdom of Lesotho             Lesotho   \n",
      "\n",
      "                         ...                           sectorcode source  \\\n",
      "0                        ...                          ET,BS,ES,EP   IBRD   \n",
      "1                        ...                                BZ,BS   IBRD   \n",
      "2                        ...                                   TI   IBRD   \n",
      "3                        ...                                   JB   IBRD   \n",
      "4                        ...                             FH,YW,YZ   IBRD   \n",
      "\n",
      "   status  supplementprojectflg  \\\n",
      "0  Active                     N   \n",
      "1  Active                     N   \n",
      "2  Active                     Y   \n",
      "3  Active                     N   \n",
      "4  Active                     N   \n",
      "\n",
      "                                              theme1  \\\n",
      "0      {'Percent': 100, 'Name': 'Education for all'}   \n",
      "1  {'Percent': 30, 'Name': 'Other economic manage...   \n",
      "2    {'Percent': 46, 'Name': 'Regional integration'}   \n",
      "3  {'Percent': 50, 'Name': 'Participation and civ...   \n",
      "4  {'Percent': 30, 'Name': 'Export development an...   \n",
      "\n",
      "                                      theme_namecode    themecode   totalamt  \\\n",
      "0      [{'code': '65', 'name': 'Education for all'}]           65  130000000   \n",
      "1  [{'code': '24', 'name': 'Other economic manage...        54,24          0   \n",
      "2  [{'code': '47', 'name': 'Regional integration'...  52,81,25,47    6060000   \n",
      "3  [{'code': '57', 'name': 'Participation and civ...        59,57          0   \n",
      "4  [{'code': '45', 'name': 'Export development an...        41,45   13100000   \n",
      "\n",
      "  totalcommamt                                                url  \n",
      "0    130000000  http://www.worldbank.org/projects/P129828/ethi...  \n",
      "1      4700000  http://www.worldbank.org/projects/P144674?lang=en  \n",
      "2      6060000  http://www.worldbank.org/projects/P145310?lang=en  \n",
      "3      1500000  http://www.worldbank.org/projects/P144665?lang=en  \n",
      "4     13100000  http://www.worldbank.org/projects/P144933/seco...  \n",
      "\n",
      "[5 rows x 50 columns]\n"
     ]
    }
   ],
   "source": [
    "#import necessary packages\n",
    "import pandas as pd\n",
    "import json\n",
    "from pandas.io.json import json_normalize\n",
    "\n",
    "#read in json as a pandas dataframe: wb_data\n",
    "with open('data_wrangling_json/data/world_bank_projects.json', 'r') as json_file:\n",
    "    wb_data = pd.read_json(json_file)\n",
    "\n",
    "#Explore content and structure of wb_data\n",
    "print(wb_data.shape)\n",
    "print(wb_data.columns)\n",
    "print(wb_data.info())\n",
    "print(wb_data.head(5))"
   ]
  },
  {
   "cell_type": "code",
   "execution_count": 2,
   "metadata": {},
   "outputs": [
    {
     "data": {
      "text/plain": [
       "People's Republic of China         19\n",
       "Republic of Indonesia              19\n",
       "Socialist Republic of Vietnam      17\n",
       "Republic of India                  16\n",
       "Republic of Yemen                  13\n",
       "Nepal                              12\n",
       "Kingdom of Morocco                 12\n",
       "People's Republic of Bangladesh    12\n",
       "Africa                             11\n",
       "Republic of Mozambique             11\n",
       "Name: countryname, dtype: int64"
      ]
     },
     "execution_count": 2,
     "metadata": {},
     "output_type": "execute_result"
    }
   ],
   "source": [
    "#Rank the countries by # of projects by using value_counts() on the 'countryname' column of wb_data\n",
    "project_counts = wb_data['countryname'].value_counts()\n",
    "#Print out the top 10 countries\n",
    "project_counts.head(10)"
   ]
  },
  {
   "cell_type": "markdown",
   "metadata": {},
   "source": [
    "Exercise 2: Find the top 10 major project themes (using column 'mjtheme_namecode')"
   ]
  },
  {
   "cell_type": "code",
   "execution_count": 3,
   "metadata": {},
   "outputs": [
    {
     "name": "stdout",
     "output_type": "stream",
     "text": [
      "(1499, 2)\n",
      "<class 'pandas.core.frame.DataFrame'>\n",
      "RangeIndex: 1499 entries, 0 to 1498\n",
      "Data columns (total 2 columns):\n",
      "code    1499 non-null object\n",
      "name    1499 non-null object\n",
      "dtypes: object(2)\n",
      "memory usage: 23.5+ KB\n",
      "None\n",
      "   code                                          name\n",
      "0     8                             Human development\n",
      "1    11                                              \n",
      "2     1                           Economic management\n",
      "3     6         Social protection and risk management\n",
      "4     5                         Trade and integration\n",
      "5     2                      Public sector governance\n",
      "6    11  Environment and natural resources management\n",
      "7     6         Social protection and risk management\n",
      "8     7                   Social dev/gender/inclusion\n",
      "9     7                   Social dev/gender/inclusion\n",
      "10    5                         Trade and integration\n",
      "11    4      Financial and private sector development\n",
      "12    6         Social protection and risk management\n",
      "13    6                                              \n",
      "14    2                      Public sector governance\n",
      "15    4      Financial and private sector development\n",
      "16   11  Environment and natural resources management\n",
      "17    8                                              \n",
      "18   10                             Rural development\n",
      "19    7                                              \n"
     ]
    }
   ],
   "source": [
    "#First, load json file into a string with json.load()\n",
    "wb_string = json.load((open('data_wrangling_json/data/world_bank_projects.json')))\n",
    "\n",
    "#Extract and flatten the data in the 'mjtheme_namecode' column into a dataframe: project_themes\n",
    "project_themes = json_normalize(wb_string, 'mjtheme_namecode')\n",
    "\n",
    "#Explore content and structure of project_themes\n",
    "print(project_themes.shape)\n",
    "print(project_themes.info())\n",
    "print(project_themes.head(20))\n",
    "\n",
    "#Convert 'code' column to numeric\n",
    "project_themes['code'] = pd.to_numeric(project_themes['code'])"
   ]
  },
  {
   "cell_type": "code",
   "execution_count": 4,
   "metadata": {},
   "outputs": [
    {
     "name": "stdout",
     "output_type": "stream",
     "text": [
      "Environment and natural resources management    223\n",
      "Rural development                               202\n",
      "Human development                               197\n",
      "Public sector governance                        184\n",
      "Social protection and risk management           158\n",
      "Financial and private sector development        130\n",
      "                                                122\n",
      "Social dev/gender/inclusion                     119\n",
      "Trade and integration                            72\n",
      "Urban development                                47\n",
      "Economic management                              33\n",
      "Rule of law                                      12\n",
      "Name: name, dtype: int64\n"
     ]
    }
   ],
   "source": [
    "#Rank project themes by count and print\n",
    "project_counts = project_themes['name'].value_counts(dropna=False)\n",
    "print(project_counts)"
   ]
  },
  {
   "cell_type": "markdown",
   "metadata": {},
   "source": [
    "As you can see above, the top 10 project themes are: \n",
    "1.  Environment and natural resources management\n",
    "2.  Rural development\n",
    "3.  Human development\n",
    "4.  Public sector governance\n",
    "5.  Social protection and risk management\n",
    "6.  Financial and private sector development\n",
    "7.  Social dev/gender/inclusion\n",
    "8.  Trade and integration\n",
    "9.  Urban development\n",
    "10. Economic management\n",
    "\n",
    "As some of the rows have only the code and are missing the name, however, this is not necessarily an accurate representation of the top 10 project themes.\n",
    "\n",
    "Exercise 3: In Question 2 above you will notice that some entries have only the code and the name is missing. Create a dataframe with the missing names filled in."
   ]
  },
  {
   "cell_type": "code",
   "execution_count": 5,
   "metadata": {},
   "outputs": [
    {
     "name": "stdout",
     "output_type": "stream",
     "text": [
      "   code                                          name\n",
      "0     8                             Human development\n",
      "1    11  Environment and natural resources management\n",
      "2     1                           Economic management\n",
      "3     6         Social protection and risk management\n",
      "4     5                         Trade and integration\n",
      "5     2                      Public sector governance\n",
      "6    11  Environment and natural resources management\n",
      "7     6         Social protection and risk management\n",
      "8     7                   Social dev/gender/inclusion\n",
      "9     7                   Social dev/gender/inclusion\n"
     ]
    }
   ],
   "source": [
    "#create a simplified dataframe containing project codes matched with names by dropping duplicate rows \n",
    "#and rows with missing 'name' vales\n",
    "themes_min = project_themes[project_themes['name'].str.len() > 0].drop_duplicates()\n",
    "\n",
    "#convert 'code' and 'name' columns to lists\n",
    "codes = list(themes_min['code'])\n",
    "names = list(themes_min['name'])\n",
    "\n",
    "#zip lists together to create dictionary of code:name pairs\n",
    "project_key = dict(zip(codes, names))\n",
    "\n",
    "#replace the missing 'name' values, which appear as empty strings(''), by mapping the codes to the appropriate name\n",
    "#using the project_key dictionary\n",
    "project_themes['name'] = project_themes['name'].replace(to_replace='', value=project_themes['code'].map(project_key))\n",
    "print(project_themes.head(10))"
   ]
  },
  {
   "cell_type": "markdown",
   "metadata": {},
   "source": [
    "For good measure, I have also re-analyzed the top 10 project themes now that the missing names have been replaced. As you can see below, the top 10 project themes remains the same."
   ]
  },
  {
   "cell_type": "code",
   "execution_count": 6,
   "metadata": {},
   "outputs": [
    {
     "name": "stdout",
     "output_type": "stream",
     "text": [
      "Environment and natural resources management    250\n",
      "Rural development                               216\n",
      "Human development                               210\n",
      "Public sector governance                        199\n",
      "Social protection and risk management           168\n",
      "Financial and private sector development        146\n",
      "Social dev/gender/inclusion                     130\n",
      "Trade and integration                            77\n",
      "Urban development                                50\n",
      "Economic management                              38\n",
      "Rule of law                                      15\n",
      "Name: name, dtype: int64\n"
     ]
    }
   ],
   "source": [
    "new_project_counts = project_themes['name'].value_counts()\n",
    "print(new_project_counts)"
   ]
  }
 ],
 "metadata": {
  "kernelspec": {
   "display_name": "Python 3",
   "language": "python",
   "name": "python3"
  },
  "language_info": {
   "codemirror_mode": {
    "name": "ipython",
    "version": 3
   },
   "file_extension": ".py",
   "mimetype": "text/x-python",
   "name": "python",
   "nbconvert_exporter": "python",
   "pygments_lexer": "ipython3",
   "version": "3.7.0"
  }
 },
 "nbformat": 4,
 "nbformat_minor": 2
}
